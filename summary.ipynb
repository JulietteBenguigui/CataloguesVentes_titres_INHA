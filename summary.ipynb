{
 "cells": [
  {
   "cell_type": "code",
   "execution_count": 1,
   "metadata": {},
   "outputs": [],
   "source": [
    "from datasets import load_dataset\n",
    "\n",
    "billsum = load_dataset(\"billsum\", split=\"ca_test\")"
   ]
  },
  {
   "cell_type": "code",
   "execution_count": 2,
   "metadata": {},
   "outputs": [],
   "source": [
    "billsum = billsum.train_test_split(test_size=0.2)"
   ]
  },
  {
   "cell_type": "code",
   "execution_count": 3,
   "metadata": {},
   "outputs": [
    {
     "data": {
      "text/plain": [
       "{'text': 'The people of the State of California do enact as follows:\\n\\n\\nSECTION 1.\\nSection 44011 of the Health and Safety Code is amended to read:\\n44011.\\n(a) All motor vehicles powered by internal combustion engines that are registered within an area designated for program coverage shall be required biennially to obtain a certificate of compliance or noncompliance, except for the following:\\n(1) All motorcycles until the department, pursuant to Section 44012, implements test procedures applicable to motorcycles.\\n(2) All motor vehicles that have been issued a certificate of compliance or noncompliance or a repair cost waiver upon a change of ownership or initial registration in this state during the preceding six months.\\n(3) All motor vehicles manufactured prior to the 1976 model year or all motor vehicles manufactured after the\\n1976\\n1975\\nmodel year but prior to the 1981 model year that comply with paragraph (1) of subdivision (c).\\n(4) (A) Except as provided in subparagraph (B), all motor vehicles four or less model years old.\\n(B) Beginning January 1, 2005, all motor vehicles six or less model years old, unless the state board finds that providing an exception for these vehicles will prohibit the state from meeting the requirements of Section 176(c) of the federal Clean Air Act (42 U.S.C. Sec. 7401 et seq.) or the state’s commitments with respect to the state implementation plan required by the federal Clean Air Act.\\n(C) All motor vehicles excepted by this paragraph shall be subject to testing and to certification requirements as determined by the department, if any of the following apply:\\n(i) The department determines through remote sensing activities or other means that there is a substantial probability that the vehicle has a tampered emissions control system or would fail for other cause a smog check test as specified in Section 44012.\\n(ii) The vehicle was previously registered outside this state and is undergoing initial registration in this state.\\n(iii) The vehicle is being registered as a specially constructed vehicle.\\n(iv) The vehicle has been selected for testing pursuant to Section 44014.7 or any other provision of this chapter authorizing out-of-cycle testing.\\n(D) This paragraph does not apply to diesel-powered vehicles.\\n(5) In addition to the vehicles exempted pursuant to paragraph (4), any motor vehicle or class of motor vehicles exempted pursuant to subdivision (c) of Section 44024.5. It is the intent of the Legislature that the department, pursuant to the authority granted by this paragraph, exempt at least 15 percent of the lowest emitting motor vehicles from the biennial smog check inspection.\\n(6) All motor vehicles that the department determines would present prohibitive inspection or repair problems.\\n(7) Any vehicle registered to the owner of a fleet licensed pursuant to Section 44020 if the vehicle is garaged exclusively outside the area included in program coverage, and is not primarily operated inside the area included in program coverage.\\n(8) (A) All diesel-powered vehicles manufactured prior to the 1998 model year.\\n(B) All diesel-powered vehicles that have a gross vehicle weight rating of 8,501 to 10,000 pounds, inclusive, until the department, in consultation with the state board, pursuant to Section 44012, implements test procedures applicable to these vehicles.\\n(C) All diesel-powered vehicles that have a gross vehicle weight rating from 10,001 pounds to 14,000 pounds, inclusive, until the state board and the Department of Motor Vehicles determine the best method for identifying these vehicles, and until the department, in consultation with the state board, pursuant to Section 44012, implements test procedures applicable to these vehicles.\\n(D) All diesel-powered vehicles that have a gross vehicle weight rating of 14,001 pounds or greater.\\n(b) Vehicles designated for program coverage in enhanced areas shall be required to obtain inspections from appropriate smog check stations operating in enhanced areas.\\n(c) For purposes of subdivision (a), a collector motor vehicle, as defined in Section 259 of the Vehicle Code, is exempt from those portions of the test required by subdivision (f) of Section 44012 if the collector motor vehicle meets all of the following criteria:\\n(1) Submission of proof that the motor vehicle is insured as a collector motor vehicle, as shall be required by regulation of the bureau.\\n(2) The motor vehicle is at least 35 model years old.\\n(3) The motor vehicle complies with the exhaust emissions standards for that motor vehicle’s class and model year, as prescribed by the department, and the motor vehicle passes a functional inspection of the fuel cap and a visual inspection for liquid fuel leaks.\\n(d) This section shall remain in effect only until January 1, 2019, and as of that date is repealed, unless a later enacted statute, that is enacted before January 1, 2019, deletes or extends that date.\\nSEC. 2.\\nSection 44011 is added to the Health and Safety Code, to read:\\n44011.\\n(a) All motor vehicles powered by internal combustion engines that are registered within an area designated for program coverage shall be required biennially to obtain a certificate of compliance or noncompliance, except for the following:\\n(1) All motorcycles until the department, pursuant to Section 44012, implements test procedures applicable to motorcycles.\\n(2) All motor vehicles that have been issued a certificate of compliance or noncompliance or a repair cost waiver upon a change of ownership or initial registration in this state during the preceding six months.\\n(3) All motor vehicles manufactured prior to the 1976 model year.\\n(4) (A) Except as provided in subparagraph (B), all motor vehicles four or less model years old.\\n(B) All motor vehicles six or less model years old, unless the state board finds that providing an exception for these vehicles will prohibit the state from meeting the requirements of Section 176(c) of the federal Clean Air Act (42 U.S.C. Sec. 7401 et seq.) or the state’s commitments with respect to the state implementation plan required by the federal Clean Air Act.\\n(C) All motor vehicles excepted by this paragraph shall be subject to testing and to certification requirements as determined by the department, if any of the following apply:\\n(i) The department determines through remote sensing activities or other means that there is a substantial probability that the vehicle has a tampered emissions control system or would fail for other cause a smog check test as specified in Section 44012.\\n(ii) The vehicle was previously registered outside this state and is undergoing initial registration in this state.\\n(iii) The vehicle is being registered as a specially constructed vehicle.\\n(iv) The vehicle has been selected for testing pursuant to Section 44014.7 or any other provision of this chapter authorizing out-of-cycle testing.\\n(D) This paragraph does not apply to diesel-powered vehicles.\\n(5) In addition to the vehicles exempted pursuant to paragraph (4), any motor vehicle or class of motor vehicles exempted pursuant to subdivision (c) of Section 44024.5. It is the intent of the Legislature that the department, pursuant to the authority granted by this paragraph, exempt at least 15 percent of the lowest emitting motor vehicles from the biennial smog check inspection.\\n(6) All motor vehicles that the department determines would present prohibitive inspection or repair problems.\\n(7) Any vehicle registered to the owner of a fleet licensed pursuant to Section 44020 if the vehicle is garaged exclusively outside the area included in program coverage, and is not primarily operated inside the area included in program coverage.\\n(8) (A) All diesel-powered vehicles manufactured prior to the 1998 model year.\\n(B) All diesel-powered vehicles that have a gross vehicle weight rating of 8,501 to 10,000 pounds, inclusive, until the department, in consultation with the state board, pursuant to Section 44012, implements test procedures applicable to these vehicles.\\n(C) All diesel-powered vehicles that have a gross vehicle weight rating from 10,001 pounds to 14,000 pounds, inclusive, until the state board and the Department of Motor Vehicles determine the best method for identifying these vehicles, and until the department, in consultation with the state board, pursuant to Section 44012, implements test procedures applicable to these vehicles.\\n(D) All diesel-powered vehicles that have a gross vehicle weight rating of 14,001 pounds or greater.\\n(b) Vehicles designated for program coverage in enhanced areas shall be required to obtain inspections from appropriate smog check stations operating in enhanced areas.\\n(c) For purposes of subdivision (a), a collector motor vehicle, as defined in Section 259 of the Vehicle Code, is exempt from those portions of the test required by subdivision (f) of Section 44012 if the collector motor vehicle meets all of the following criteria:\\n(1) Submission of proof that the motor vehicle is insured as a collector motor vehicle, as shall be required by regulation of the bureau.\\n(2) The motor vehicle is at least 35 model years old.\\n(3) The motor vehicle complies with the exhaust emissions standards for that motor vehicle’s class and model year as prescribed by the department, and the motor vehicle passes a functional inspection of the fuel cap and a visual inspection for liquid fuel leaks.\\n(d) This section shall become operative on January 1, 2019.',\n",
       " 'summary': 'Existing law establishes a motor vehicle inspection and maintenance (smog check) program that is administered by the Department of Consumer Affairs. The smog check program requires inspection of motor vehicles upon initial registration, biennially upon renewal of registration, upon transfer of ownership, and in certain other circumstances. Existing law exempts specified vehicles from being inspected biennially upon renewal of registration, including, among others, all motor vehicles manufactured prior to the 1976 model year.\\nThis bill, until January 1, 2019, would also exempt from the biennial smog check inspections all motor vehicles manufactured after the\\n1976\\n1975\\nmodel year but prior to the 1981 model year if the owner submits proof that the motor vehicle is insured as a collector motor vehicle.',\n",
       " 'title': 'An act to amend, repeal, and add Section 44011 of the Health and Safety Code, relating to vehicular air pollution.'}"
      ]
     },
     "execution_count": 3,
     "metadata": {},
     "output_type": "execute_result"
    }
   ],
   "source": [
    "billsum[\"train\"][0]"
   ]
  },
  {
   "cell_type": "code",
   "execution_count": 5,
   "metadata": {},
   "outputs": [
    {
     "name": "stderr",
     "output_type": "stream",
     "text": [
      "c:\\Users\\hp\\miniconda3\\envs\\summarizarisation\\Lib\\site-packages\\huggingface_hub\\file_download.py:1132: FutureWarning: `resume_download` is deprecated and will be removed in version 1.0.0. Downloads always resume when possible. If you want to force a new download, use `force_download=True`.\n",
      "  warnings.warn(\n"
     ]
    },
    {
     "data": {
      "application/vnd.jupyter.widget-view+json": {
       "model_id": "1260e2df4bd54e8aab96c9f11d991264",
       "version_major": 2,
       "version_minor": 0
      },
      "text/plain": [
       "tokenizer_config.json:   0%|          | 0.00/2.32k [00:00<?, ?B/s]"
      ]
     },
     "metadata": {},
     "output_type": "display_data"
    },
    {
     "name": "stderr",
     "output_type": "stream",
     "text": [
      "c:\\Users\\hp\\miniconda3\\envs\\summarizarisation\\Lib\\site-packages\\huggingface_hub\\file_download.py:157: UserWarning: `huggingface_hub` cache-system uses symlinks by default to efficiently store duplicated files but your machine does not support them in C:\\Users\\hp\\.cache\\huggingface\\hub\\models--google-t5--t5-small. Caching files will still work but in a degraded version that might require more space on your disk. This warning can be disabled by setting the `HF_HUB_DISABLE_SYMLINKS_WARNING` environment variable. For more details, see https://huggingface.co/docs/huggingface_hub/how-to-cache#limitations.\n",
      "To support symlinks on Windows, you either need to activate Developer Mode or to run Python as an administrator. In order to see activate developer mode, see this article: https://docs.microsoft.com/en-us/windows/apps/get-started/enable-your-device-for-development\n",
      "  warnings.warn(message)\n"
     ]
    },
    {
     "data": {
      "application/vnd.jupyter.widget-view+json": {
       "model_id": "f5ad42a86af14140b226a3bc1b72331c",
       "version_major": 2,
       "version_minor": 0
      },
      "text/plain": [
       "spiece.model:   0%|          | 0.00/792k [00:00<?, ?B/s]"
      ]
     },
     "metadata": {},
     "output_type": "display_data"
    },
    {
     "data": {
      "application/vnd.jupyter.widget-view+json": {
       "model_id": "60ecb887fefe48f7a83fa6aa1f9bc7c9",
       "version_major": 2,
       "version_minor": 0
      },
      "text/plain": [
       "tokenizer.json:   0%|          | 0.00/1.39M [00:00<?, ?B/s]"
      ]
     },
     "metadata": {},
     "output_type": "display_data"
    }
   ],
   "source": [
    "from transformers import AutoTokenizer\n",
    "\n",
    "checkpoint = \"google-t5/t5-small\"\n",
    "tokenizer = AutoTokenizer.from_pretrained(checkpoint)"
   ]
  },
  {
   "cell_type": "code",
   "execution_count": 6,
   "metadata": {},
   "outputs": [],
   "source": [
    "prefix = \"summarize: \"\n",
    "\n",
    "def preprocess_function(examples):\n",
    "    inputs = [prefix + doc for doc in examples[\"text\"]]\n",
    "    model_inputs = tokenizer(inputs, max_length=1024, truncation=True)\n",
    "\n",
    "    labels = tokenizer(text_target=examples[\"summary\"], max_length=128, truncation=True)\n",
    "\n",
    "    model_inputs[\"labels\"] = labels[\"input_ids\"]\n",
    "    return model_inputs "
   ]
  },
  {
   "cell_type": "code",
   "execution_count": 7,
   "metadata": {},
   "outputs": [
    {
     "data": {
      "application/vnd.jupyter.widget-view+json": {
       "model_id": "a7cfc5271408417da561fa31d1d8af66",
       "version_major": 2,
       "version_minor": 0
      },
      "text/plain": [
       "Map:   0%|          | 0/989 [00:00<?, ? examples/s]"
      ]
     },
     "metadata": {},
     "output_type": "display_data"
    },
    {
     "data": {
      "application/vnd.jupyter.widget-view+json": {
       "model_id": "8d856103b76341d3ae3aad3cccd74575",
       "version_major": 2,
       "version_minor": 0
      },
      "text/plain": [
       "Map:   0%|          | 0/248 [00:00<?, ? examples/s]"
      ]
     },
     "metadata": {},
     "output_type": "display_data"
    }
   ],
   "source": [
    "tokenized_billsum = billsum.map(preprocess_function, batched=True)"
   ]
  },
  {
   "cell_type": "code",
   "execution_count": 9,
   "metadata": {},
   "outputs": [],
   "source": [
    "from transformers import DataCollatorForSeq2Seq\n",
    "data_collator = DataCollatorForSeq2Seq(tokenizer=tokenizer, model=checkpoint)"
   ]
  },
  {
   "cell_type": "code",
   "execution_count": 10,
   "metadata": {},
   "outputs": [
    {
     "data": {
      "application/vnd.jupyter.widget-view+json": {
       "model_id": "909465d056fa496d846d8d63f9f11be2",
       "version_major": 2,
       "version_minor": 0
      },
      "text/plain": [
       "Downloading builder script:   0%|          | 0.00/6.27k [00:00<?, ?B/s]"
      ]
     },
     "metadata": {},
     "output_type": "display_data"
    }
   ],
   "source": [
    "import evaluate\n",
    "\n",
    "rouge = evaluate.load(\"rouge\")"
   ]
  },
  {
   "cell_type": "code",
   "execution_count": 13,
   "metadata": {},
   "outputs": [],
   "source": [
    "import numpy as np\n",
    "\n",
    "def compute_metrics(eval_pred):\n",
    "    predictions, labels = eval_pred\n",
    "    decoded_preds = tokenizer.batch_decode(predictions, skip_special_tokens=True)\n",
    "    labels = np.where(labels != -100, labels, tokenizer.pad_toke_id)\n",
    "    decoded_labels = tokenizer.batch_decode(labels, skip_special_tokens=True)\n",
    "\n",
    "    result = rouge.compute(predictions=decoded_preds, references=decoded_labels, use_stemmer=True)\n",
    "\n",
    "    prediction_lens = [np.count_nonzero(pred != tokenizer.pad_token_id) for pred in predictions]\n",
    "    result[\"gen_len\"] = np.mean(prediction_lens)\n",
    "\n",
    "    return {k: round(v, 4) for k, v in result.items()}"
   ]
  },
  {
   "cell_type": "code",
   "execution_count": 20,
   "metadata": {},
   "outputs": [
    {
     "ename": "ImportError",
     "evalue": "\nAutoModelForSeq2SeqLM requires the PyTorch library but it was not found in your environment. Checkout the instructions on the\ninstallation page: https://pytorch.org/get-started/locally/ and follow the ones that match your environment.\nPlease note that you may need to restart your runtime after installation.\n",
     "output_type": "error",
     "traceback": [
      "\u001b[1;31m---------------------------------------------------------------------------\u001b[0m",
      "\u001b[1;31mImportError\u001b[0m                               Traceback (most recent call last)",
      "Cell \u001b[1;32mIn[20], line 3\u001b[0m\n\u001b[0;32m      1\u001b[0m \u001b[38;5;28;01mfrom\u001b[39;00m \u001b[38;5;21;01mtransformers\u001b[39;00m \u001b[38;5;28;01mimport\u001b[39;00m AutoModelForSeq2SeqLM, Seq2SeqTrainingArguments, Seq2SeqTrainer\n\u001b[1;32m----> 3\u001b[0m model \u001b[38;5;241m=\u001b[39m \u001b[43mAutoModelForSeq2SeqLM\u001b[49m\u001b[38;5;241;43m.\u001b[39;49m\u001b[43mfrom_pretrained\u001b[49m(checkpoint)\n",
      "File \u001b[1;32mc:\\Users\\hp\\miniconda3\\envs\\summarizarisation\\Lib\\site-packages\\transformers\\utils\\import_utils.py:1450\u001b[0m, in \u001b[0;36mDummyObject.__getattribute__\u001b[1;34m(cls, key)\u001b[0m\n\u001b[0;32m   1448\u001b[0m \u001b[38;5;28;01mif\u001b[39;00m key\u001b[38;5;241m.\u001b[39mstartswith(\u001b[38;5;124m\"\u001b[39m\u001b[38;5;124m_\u001b[39m\u001b[38;5;124m\"\u001b[39m) \u001b[38;5;129;01mand\u001b[39;00m key \u001b[38;5;241m!=\u001b[39m \u001b[38;5;124m\"\u001b[39m\u001b[38;5;124m_from_config\u001b[39m\u001b[38;5;124m\"\u001b[39m:\n\u001b[0;32m   1449\u001b[0m     \u001b[38;5;28;01mreturn\u001b[39;00m \u001b[38;5;28msuper\u001b[39m()\u001b[38;5;241m.\u001b[39m\u001b[38;5;21m__getattribute__\u001b[39m(key)\n\u001b[1;32m-> 1450\u001b[0m \u001b[43mrequires_backends\u001b[49m\u001b[43m(\u001b[49m\u001b[38;5;28;43mcls\u001b[39;49m\u001b[43m,\u001b[49m\u001b[43m \u001b[49m\u001b[38;5;28;43mcls\u001b[39;49m\u001b[38;5;241;43m.\u001b[39;49m\u001b[43m_backends\u001b[49m\u001b[43m)\u001b[49m\n",
      "File \u001b[1;32mc:\\Users\\hp\\miniconda3\\envs\\summarizarisation\\Lib\\site-packages\\transformers\\utils\\import_utils.py:1438\u001b[0m, in \u001b[0;36mrequires_backends\u001b[1;34m(obj, backends)\u001b[0m\n\u001b[0;32m   1436\u001b[0m failed \u001b[38;5;241m=\u001b[39m [msg\u001b[38;5;241m.\u001b[39mformat(name) \u001b[38;5;28;01mfor\u001b[39;00m available, msg \u001b[38;5;129;01min\u001b[39;00m checks \u001b[38;5;28;01mif\u001b[39;00m \u001b[38;5;129;01mnot\u001b[39;00m available()]\n\u001b[0;32m   1437\u001b[0m \u001b[38;5;28;01mif\u001b[39;00m failed:\n\u001b[1;32m-> 1438\u001b[0m     \u001b[38;5;28;01mraise\u001b[39;00m \u001b[38;5;167;01mImportError\u001b[39;00m(\u001b[38;5;124m\"\u001b[39m\u001b[38;5;124m\"\u001b[39m\u001b[38;5;241m.\u001b[39mjoin(failed))\n",
      "\u001b[1;31mImportError\u001b[0m: \nAutoModelForSeq2SeqLM requires the PyTorch library but it was not found in your environment. Checkout the instructions on the\ninstallation page: https://pytorch.org/get-started/locally/ and follow the ones that match your environment.\nPlease note that you may need to restart your runtime after installation.\n"
     ]
    }
   ],
   "source": [
    "from transformers import AutoModelForSeq2SeqLM, Seq2SeqTrainingArguments, Seq2SeqTrainer\n",
    "\n",
    "model = AutoModelForSeq2SeqLM.from_pretrained(checkpoint)"
   ]
  },
  {
   "cell_type": "code",
   "execution_count": null,
   "metadata": {},
   "outputs": [],
   "source": []
  }
 ],
 "metadata": {
  "kernelspec": {
   "display_name": "summarizarisation",
   "language": "python",
   "name": "python3"
  },
  "language_info": {
   "codemirror_mode": {
    "name": "ipython",
    "version": 3
   },
   "file_extension": ".py",
   "mimetype": "text/x-python",
   "name": "python",
   "nbconvert_exporter": "python",
   "pygments_lexer": "ipython3",
   "version": "3.12.3"
  }
 },
 "nbformat": 4,
 "nbformat_minor": 2
}

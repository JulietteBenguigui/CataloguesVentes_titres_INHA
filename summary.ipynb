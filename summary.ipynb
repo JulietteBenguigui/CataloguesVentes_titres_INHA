{
 "cells": [
  {
   "cell_type": "code",
   "execution_count": 2,
   "metadata": {},
   "outputs": [
    {
     "data": {
      "application/vnd.jupyter.widget-view+json": {
       "model_id": "1b9ae67515a243aa8b01bd630647a0d3",
       "version_major": 2,
       "version_minor": 0
      },
      "text/plain": [
       "VBox(children=(HTML(value='<center> <img\\nsrc=https://huggingface.co/front/assets/huggingface_logo-noborder.sv…"
      ]
     },
     "metadata": {},
     "output_type": "display_data"
    }
   ],
   "source": [
    "from huggingface_hub import notebook_login\n",
    "notebook_login()"
   ]
  },
  {
   "cell_type": "code",
   "execution_count": 3,
   "metadata": {},
   "outputs": [],
   "source": [
    "from datasets import load_dataset\n",
    "from huggingface_hub import CommitInfo\n",
    "\n",
    "billsum = load_dataset(\"billsum\", split=\"ca_test\")"
   ]
  },
  {
   "cell_type": "code",
   "execution_count": 4,
   "metadata": {},
   "outputs": [],
   "source": [
    "billsum = billsum.train_test_split(test_size=0.2)"
   ]
  },
  {
   "cell_type": "code",
   "execution_count": 5,
   "metadata": {},
   "outputs": [
    {
     "data": {
      "text/plain": [
       "{'text': 'The people of the State of California do enact as follows:\\n\\n\\nSECTION 1.\\nSection 33704 of the Food and Agricultural Code is amended to read:\\n33704.\\n(a) (1) Sections 33701, 33731, 33732, 33733, 33734, 33767, 33768, 33770, 33771, 33776, and 34593 do not apply to the manufacture of ice cream that is manufactured from ice cream mix, to frozen dairy dessert that is manufactured from frozen dairy dessert mix, to frozen dessert that is manufactured from frozen dessert mix, to frozen yogurt that is manufactured from frozen yogurt mix, or to nondairy frozen dessert that is manufactured from nondairy frozen dessert mix, if those products are manufactured in a freezing device from which those products are served directly in a semifrozen state, without packaging of any type, for consumption on the premises in or from rooms where food is served to the public.\\n(2) Except for nondairy frozen dessert mix, all mixes shall be secured from a licensed manufacturer of milk products.\\n(3) Ice cream mix, frozen yogurt mix, frozen dairy dessert mix, frozen dessert mix, and nondairy frozen dessert mix shall be manufactured into a semifrozen state without adulteration and freezing device salvage shall not be reused as a mix.\\n(b) A limited packaging permit may be issued by the secretary to a semifrozen (soft-serve) milk products plant for on-premises manufacture and packaging of hard frozen dairy products or hard frozen dairy product novelties. The permit may only be issued after the suitability of the facility for manufacture and packaging has been determined by the secretary. An annual onsite evaluation of compliance with the specific permit conditions shall be completed by the secretary before renewal of the limited packaging permit. A semifrozen milk products plant issued a limited packaging permit shall meet all of the following standards:\\n(1) The hard frozen products shall only be sold to purchasers for consumption. No hard frozen product manufactured pursuant to the limited packaging permit shall be sold for resale.\\n(2) All frozen dairy product mixes used for the manufacture and packaging of hard frozen dairy product novelties shall be dispensed from single service containers sealed at the licensed milk products plant where processed and pasteurized. Reconstitution of dry mix or condensed mix is prohibited at a semifrozen milk products plant issued a limited packaging permit.\\n(3) Adequate facilities, consistent with recognized good manufacturing practices for the production and packaging of hard frozen dairy products, as determined by the secretary, shall be provided as a condition of the limited packaging permit. The facilities shall include, but are not limited to, adequate utensil and novelty mold washing, sterilization and storage, and sufficient sanitary work area, including handwashing facilities, dedicated to the manufacture and packaging of hard frozen dairy product novelties. Sanitation guidelines consistent with good manufacturing and handling practices for retail food establishments manufacturing and packaging hard frozen dairy products in conformance with Part 110 (commencing with Section 110.3) of Title 21 of the Code of Federal Regulations shall be utilized by the secretary as a condition for issuance and renewal of the limited packaging permit.\\n(4) Each individually packaged hard frozen novelty shall be labeled with the name of the product and the name and address of the manufacturer.\\n(c) Nondairy frozen dessert mix shall be obtained from manufacturers licensed pursuant to Sections 38931 and 38934. Any dry or condensed mix to be reconstituted into freezable form shall be reconstituted on the premises in containers or equipment that meet the requirements of Sections 33763, 33764, 33765, and 33766. Any water used for reconstitution shall be treated in a manner to ensure a quality equal to potable pasteurized water. Upon reconstitution, the product shall be poured directly into the freezing unit or refrigerated at a temperature not to exceed 45 degrees Fahrenheit, and so maintained until frozen, or both.\\n(d) Where any retail establishment manufactures two or more of the products provided for under this section, each of those products shall be processed in a separate freezing device, and that freezing device shall be clearly identified as to the product being manufactured therein.\\n(e) The secretary may, by agreement with any approved milk inspection service, authorize the service to inspect and enforce requirements of this code applicable to the establishments covered by this section. Any agreement shall provide that the approved inspection service shall collect the applicable license fee for those establishments as provided in Sections 35221 and 38933. The fees collected shall be retained by the approved service to cover its cost of enforcement, but 15 percent of the fees collected shall be remitted to the secretary to cover the cost of administration.\\nSEC. 2.\\nSection 33704.5 of the Food and Agricultural Code is repealed.\\nSEC. 3.\\nSection 36806 of the Food and Agricultural Code is amended to read:\\n36806.\\nIce cream mix, frozen yogurt mix, frozen dairy dessert mix, and frozen dessert mix are unfrozen products that are used in the manufacture of ice cream, frozen yogurt, frozen dairy dessert, or frozen dessert. They shall comply with all the requirements for ice cream, frozen yogurt, frozen dairy dessert, or frozen dessert, respectively.\\nSEC. 4.\\nSection 48003 of the Food and Agricultural Code is amended to read:\\n48003.\\n(a) Every person acting as a handler of commodities subject to this chapter shall be personally liable for the payment of assessments and inspection fees. Any handler who fails to file the required assessment form or pay an assessment or inspection fee by the last day of the month immediately following the month in which the commodities were received shall pay to the secretary a penalty of 10 percent of the assessment, inspection fee, or the sum of both the assessment fee and the inspection fee, owed and, in addition, 1.5 percent interest per month on the unpaid balance.\\n(b) It shall be unlawful for a handler to refuse to collect the assessments or remit the assessments and the proper forms required by this chapter.\\n(c) A handler shall not charge a producer an administrative fee for collecting or remitting an assessment.\\n(d) A producer who disputes the amount of the assessment may file a claim with the secretary. The producer shall prove his or her claim by a preponderance of the evidence.\\n(e) A producer may not bring a claim against a handler for damages, or otherwise, in connection with the assessment or the required deduction by the handler of the moneys owed to the producer.\\nSEC. 5.\\nSection 61306.5 is added to the Food and Agricultural Code, to read:\\n61306.5.\\n“Educational and research activities” means any effort to develop and improve the management practices of dairy producers and processors, including, but not limited to, practices associated with the environmental sustainability of land, air quality, and water quality.\\nSEC. 6.\\nSection 61345 of the Food and Agricultural Code is amended to read:\\n61345.\\n(a) Chapter 2 (commencing with Section 61801), Chapter 2.5 (commencing with Section 62500), and Chapter 3 (commencing with Section 62700) shall be liberally construed as being complementary of, and supplemental to, this chapter, and these chapters shall constitute a single comprehensive scheme for the regulation of the production and handling of milk and related educational and research activities. However, each of the chapters, and each article, section, subdivision, sentence, clause, and phrase of each chapter is severable.\\n(b) If one of the chapters or any article, section, subdivision, sentence, clause, or phrase of any one of the chapters is for any reason held void, invalid, or unconstitutional, the decision shall not affect the validity of any other chapter or any of its articles, sections, subdivisions, sentences, clauses, or phrases.\\nSEC. 7.\\nSection 61412 of the Food and Agricultural Code is amended to read:\\n61412.\\n(a) (1) Every milk handler who receives manufacturing milk subject to this article shall deduct as an assessment from payments made to producers for manufacturing milk the sum of one and two-tenths cents ($0.012) per hundredweight of manufacturing milk.\\n(2) The amount of the assessments deducted pursuant to paragraph (1) shall be paid to the secretary on or before the 45th day following the last day of the month during which the manufacturing milk was received.\\n(b) (1) Every milk handler who receives manufacturing milk subject to this article that purchases or handles manufacturing milk from producers shall pay a fee of six-tenths of one cent ($0.006) per hundredweight of manufacturing milk.\\n(2) The amount of the fee shall be paid to the secretary on or before the 45th day following the last day of the month in which the manufacturing milk was received.\\n(c) Moneys from the amounts paid to the secretary pursuant to subdivisions (a) and (b) may be used to administer and enforce this chapter.\\nSEC. 8.\\nSection 61805 of the Food and Agricultural Code is amended to read:\\n61805.\\nThe purposes of this chapter are to do all of the following:\\n(a) Provide funds for administration and enforcement of this chapter, by assessments to be paid by producers and handlers of market milk in the manner prescribed in this chapter.\\n(b) Authorize and enable the secretary to prescribe marketing areas and to determine minimum prices to be paid to producers by handlers for market milk that are necessary due to varying factors of costs of production, health regulations, transportation, and other factors in the marketing areas of this state. In determining minimum prices to be paid producers by handlers, the secretary shall endeavor under like conditions to achieve uniformity of cost to handlers for market milk within any marketing area. However, no minimum prices established or determined under this chapter shall be invalid because uniformity of cost to handlers for market milk in any marketing area is not achieved as a result of the minimum producer prices so established or determined.\\n(c) Authorize and enable the secretary to formulate stabilization and marketing plans, subject to the limitations prescribed in this chapter with respect to the contents of the stabilization and marketing plans, and to declare the plans in effect for any marketing area.\\n(d) Enable the dairy industry, with the aid of the state, to develop and maintain satisfactory marketing conditions, bring about and maintain a reasonable amount of stability and prosperity in the production of market milk, and provide means for conducting educational and research activities.\\nSEC. 9.\\nSection 62211 of the Food and Agricultural Code is amended to read:\\n62211.\\n(a) (1) Every handler subject to the provisions of any stabilization and marketing plan, including a producer-handler, shall deduct as an assessment from payments made to producers for market milk, including the handler’s own production, the sum of one and six-tenths cents ($0.016) per hundredweight of market milk.\\n(2) The amount of the assessments so deducted shall be paid to the secretary on or before the 45th day following the last day of the month during which such market milk was received.\\n(b) (1) Every handler subject to the provisions of any stabilization and marketing plan that purchases or handles market milk from producers, including the handler’s own production, if any, shall pay a fee of eight-tenths of one cent ($0.008) per hundredweight of market milk.\\n(2) The amount of such fee shall be paid to the secretary on or before the 45th day following the last day of the month in which that market milk was received.\\n(c) Moneys from the amounts paid to the secretary pursuant to subdivisions (a) and (b) may be used to administer and enforce this chapter.\\nSEC. 10.\\nSection 76259 of the Food and Agricultural Code is amended to read:\\n76259.\\nThe term of office of all members of the commission, except ex officio members, shall be two years from the date of their election and until their successors are qualified. However, of the first members of the commission, one-half of the producers shall serve for one year, and one-half of the producers shall serve for two years, with the determination of the term of each such member made by lot at the time of the election.\\nSEC. 11.\\nSection 51203 of the Government Code is amended to read:\\n51203.\\n(a) The assessor shall determine the current fair market value of the land as if it were free of the contractual restriction pursuant to Section 51283. The Department of Conservation or the landowner, also referred to in this section as “parties,” may provide information to assist the assessor to determine the value. Any information provided to the assessor shall be served on the other party, unless the information was provided at the request of the assessor, and would be confidential under law if required of an assessee.\\n(b) Within 45 days of receiving the assessor’s notice pursuant to subdivision (a) of Section 51283 or Section 51283.4, if the Department of Conservation or the landowner believes that the current fair market valuation certified pursuant to subdivision (b) of Section 51283 or Section 51283.4 is not accurate, the department or the landowner may request formal review from the county assessor in the county considering the petition to cancel the contract. The department or the landowner shall submit to the assessor and the other party the reasons for believing the valuation is not accurate and the additional information the requesting party believes may substantiate a recalculation of the property valuation. The assessor may recover his or her reasonable costs of the formal review from the party requesting the review, and may provide an estimate of those costs to the requesting party. The recovery of these costs from the department may be deducted by the city or county from cancellation fees received pursuant to this chapter before transmittal to the Controller for deposit in the Soil Conservation Fund. The assessor may require a deposit from the landowner to cover the contingency that payment of a cancellation fee will not necessarily result from the completion of a formal review. This subdivision shall not be construed as a limitation on the authority provided in Section 51287 for cities or counties to recover their costs in the cancellation process, except that the assessor’s costs of conducting a formal review shall not be borne by the nonrequesting party.\\n(1) If no request is made within 45 days of receiving notice by certified mail of the valuation, the assessor’s valuation shall be used to calculate the fee.\\n(2) Upon receiving a request for formal review, the assessor shall formally review his or her valuation if, based on the determination of the assessor, the information may have a material effect on valuation of the property. The assessor shall notify the parties that the formal review is being undertaken and that information to aid the assessor’s review shall be submitted within 30 days of the date of the notice to the parties. Any information submitted to the assessor shall be served on the other party who shall have 30 days to respond to that information to the assessor. If the response to the assessor contains new information, the party receiving that response shall have 20 days to respond to the assessor as to the new information. All submittals and responses to the assessor shall be served on the other party by personal service or an affidavit of mailing. The assessor shall avoid ex parte contacts during the formal review and shall report any such contacts to the department and the landowner at the same time the review is complete. The assessor shall complete the review no later than 120 days of receiving the request.\\n(3) At the conclusion of the formal review, the assessor shall either revise the cancellation valuation or determine that the original cancellation valuation is accurate. The assessor shall send the revised valuation or notice of the determination that the valuation is accurate to the department, the landowner, and the board or council considering the petition to cancel the contract. The assessor shall include a brief narrative of what consideration was given to the items of information and responses directly relating to the cancellation value submitted by the parties. The assessor shall give no consideration to a party’s information or response that was not served on the other party. If the assessor denies a formal review, a brief narrative shall be provided to the parties indicating the basis for the denial, if requested.\\n(c) For purposes of this section, the valuation date of any revised valuation pursuant to formal review or following judicial challenge shall remain the date of the assessor’s initial valuation, or his or her initial recomputation pursuant to Section 51283.4. For purposes of cancellation fee calculation in a tentative cancellation as provided in Section 51283, or in a recomputation for final cancellation as provided in Section 51283.4, a cancellation value shall be considered current for one year after its determination and certification by the assessor.\\n(d) Notwithstanding any other provision of this section, the department and the landowner may agree on a cancellation valuation of the land. The agreed valuation shall serve as the cancellation valuation pursuant to Section 51283 or Section 51283.4. The agreement shall be transmitted to the board or council considering the petition to cancel the contract.\\n(e) If the department and landowner agree upon a cancellation value pursuant to subdivision (d) on a contract with a city or county that includes an additional cancellation fee pursuant to Section 51240, the department shall provide a preliminary valuation to the county assessor of the county in which the land is located and the board of supervisors or the city council at least 60 days before the effective date of the final cancellation valuation. The preliminary valuation shall include a description of the rationale and facts considered by the department in determining the cancellation value. The assessor may provide comments on the preliminary valuation to the board of supervisors or city council. The board of supervisors or city council may provide comments on the preliminary valuation and cancellation value, if submitted, to the department. Before determining the final cancellation valuation, the department shall consider the comments of the board or council concerning the preliminary valuation and cancellation valuation, if submitted.\\n(f) This section represents the exclusive administrative procedure for appealing a cancellation valuation calculated pursuant to this section. The Department of Conservation shall represent the interests of the state in the administrative and judicial remedies for challenging the determination of a cancellation valuation or cancellation fee.',\n",
       " 'summary': '(1)\\xa0Existing law regulates the production, handling, and marketing of milk and dairy products and requires milk products plants to comply with specified standards and requirements. Existing law authorizes the Secretary of Food and Agriculture to issue a limited packaging permit to a semifrozen milk products plant for on-premises manufacture and packaging of hard frozen dairy products or hard frozen dairy product novelties if certain requirements are satisfied.\\nThis bill would delete a requirement that an establishment be closed to the public when hard frozen dairy product novelties are manufactured and packaged and would delete a requirement that a manufacturer that directly serves frozen yogurt or nondairy frozen dessert on its premises post specified signs on the premises.\\n(2)\\xa0Existing law requires certain unfrozen product mixes used in the manufacture of specified frozen dairy products to comply with all of the requirements for ice cream, frozen dairy dessert, or frozen dessert, respectively.\\nThis bill would require frozen yogurt mix to comply with all of the requirements for frozen yogurt.\\n(3)\\xa0Existing law requires every milk handler to pay specified assessments and fees to the Secretary of Food and Agriculture to cover the costs of regulating milk. In that regard, existing law requires every milk handler who receives manufacturing milk subject to the milk marketing regulatory requirements or a handler subject to a milk stabilization and marketing plan, including producer-handlers, to deduct a specified assessment from payments made to producers for manufacturing milk or market milk, respectively. Existing law establishes the Department of Food and Agriculture Fund as a special fund, and continuously appropriates moneys in the fund for the administration and enforcement of, among other things, laws regulating the marketing of milk and other dairy products and the stabilization and marketing of market milk.\\nThis bill would, for purposes of those provisions, define the term “educational and research activities” and would additionally provide for the regulation of milk and dairy products-related educational and research activities. The bill would authorize the use of moneys from the above-described assessments and fees for administering and enforcing the manufacturing milk and market milk laws, including the regulation of those educational and research activities. By authorizing the expenditure of moneys from the fund for a new purpose, that is, for milk and dairy-related educational and research activities, the bill would make an appropriation.\\n(4)\\xa0Existing law establishes the California Citrus Advisory Committee and requires the committee to develop and make recommendations to the Secretary of Food and Agriculture regarding procedures for implementing an inspection program. Existing law requires producers of navel oranges, Valencia oranges, lemons, or mandarin citrus varieties grown in this state and prepared for fresh market in certain counties of the state to pay an assessment, as provided. Existing law requires the assessment to be collected from the producer by the first handler and requires that the assessment be remitted to the Department of Food and Agriculture by the first handler, along with an assessment form, at the end of each month during the marketing season. Existing law requires any handler that does not file the required assessment report and assessments by the 10th day of the month following the month for which the assessment is payable to pay a penalty of 10% of the assessment owed and, in addition, 1.5% interest per month on the unpaid balance.\\nThis bill would instead require a handler to file the required assessment form and pay the assessment and inspection fees by the last day of the month immediately following the month in which the commodities were received and would additionally apply the 10% penalty and 1.5% interest to a failure to pay an inspection fee. The bill would make a handler personally liable for the payment of assessments and inspection fees.\\n(5)\\xa0Existing law establishes the California Sheep Commission, comprised of 14 members who are elected or appointed in accordance with specified provisions to serve 2-year terms and limits the terms of office for each member to 4 consecutive terms.\\nThis bill would delete the provision limiting the terms of office of each member to 4 consecutive terms.\\n(6)\\xa0The California Land Conservation Act of 1965, also known as the Williamson Act, authorizes a city or county to contract with a landowner for the continued use of the land for agricultural use in exchange for a lower assessed valuation for property tax purposes. Existing law requires the Department of Conservation to provide a preliminary valuation of the land to the county assessor and the city council or county board of supervisors at least 60 days prior to the effective date of the agreed upon cancellation valuation if the contract includes an additional cancellation fee.\\nThis bill would specify that the Department of Conservation is required to provide the preliminary valuation pursuant to those provisions only if the department and landowner agree upon a cancellation value pursuant to a specified provision, as specified.',\n",
       " 'title': 'An act to amend Sections 33704, 36806, 48003, 61345, 61412, 61805, 62211, and 76259 of, to add Section 61306.5 to, and to repeal Section 33704.5 of, the Food and Agricultural Code, and to amend Section 51203 of the Government Code, relating to food and agriculture, and making an appropriation therefor.'}"
      ]
     },
     "execution_count": 5,
     "metadata": {},
     "output_type": "execute_result"
    }
   ],
   "source": [
    "billsum[\"train\"][0]"
   ]
  },
  {
   "cell_type": "code",
   "execution_count": 6,
   "metadata": {},
   "outputs": [
    {
     "name": "stderr",
     "output_type": "stream",
     "text": [
      "None of PyTorch, TensorFlow >= 2.0, or Flax have been found. Models won't be available and only tokenizers, configuration and file/data utilities can be used.\n",
      "c:\\Users\\hp\\miniconda3\\envs\\summary\\Lib\\site-packages\\huggingface_hub\\file_download.py:1132: FutureWarning: `resume_download` is deprecated and will be removed in version 1.0.0. Downloads always resume when possible. If you want to force a new download, use `force_download=True`.\n",
      "  warnings.warn(\n"
     ]
    }
   ],
   "source": [
    "from transformers import AutoTokenizer\n",
    "\n",
    "checkpoint = \"google-t5/t5-small\"\n",
    "tokenizer = AutoTokenizer.from_pretrained(checkpoint)"
   ]
  },
  {
   "cell_type": "code",
   "execution_count": 8,
   "metadata": {},
   "outputs": [],
   "source": [
    "prefix = \"summarize: \"\n",
    "\n",
    "def preprocess_function(examples):\n",
    "    inputs = [prefix + doc for doc in examples[\"text\"]]\n",
    "    model_inputs = tokenizer(inputs, max_length=1024, truncation=True)\n",
    "\n",
    "    labels = tokenizer(text_target=examples[\"summary\"], max_length=128, truncation=True)\n",
    "\n",
    "    model_inputs[\"labels\"] = labels[\"input_ids\"]\n",
    "    return model_inputs "
   ]
  },
  {
   "cell_type": "code",
   "execution_count": 9,
   "metadata": {},
   "outputs": [
    {
     "data": {
      "application/vnd.jupyter.widget-view+json": {
       "model_id": "b49ebb3ef833483a9ed4d4a81e4056fb",
       "version_major": 2,
       "version_minor": 0
      },
      "text/plain": [
       "Map:   0%|          | 0/989 [00:00<?, ? examples/s]"
      ]
     },
     "metadata": {},
     "output_type": "display_data"
    },
    {
     "data": {
      "application/vnd.jupyter.widget-view+json": {
       "model_id": "b4dd0f96f2984568909f55fc8dfd227b",
       "version_major": 2,
       "version_minor": 0
      },
      "text/plain": [
       "Map:   0%|          | 0/248 [00:00<?, ? examples/s]"
      ]
     },
     "metadata": {},
     "output_type": "display_data"
    }
   ],
   "source": [
    "tokenized_billsum = billsum.map(preprocess_function, batched=True)"
   ]
  },
  {
   "cell_type": "code",
   "execution_count": 10,
   "metadata": {},
   "outputs": [],
   "source": [
    "from transformers import DataCollatorForSeq2Seq\n",
    "data_collator = DataCollatorForSeq2Seq(tokenizer=tokenizer, model=checkpoint)"
   ]
  },
  {
   "cell_type": "code",
   "execution_count": 12,
   "metadata": {},
   "outputs": [],
   "source": [
    "import evaluate\n",
    "\n",
    "rouge = evaluate.load(\"rouge\")"
   ]
  },
  {
   "cell_type": "code",
   "execution_count": 13,
   "metadata": {},
   "outputs": [],
   "source": [
    "import numpy as np\n",
    "\n",
    "def compute_metrics(eval_pred):\n",
    "    predictions, labels = eval_pred\n",
    "    decoded_preds = tokenizer.batch_decode(predictions, skip_special_tokens=True)\n",
    "    labels = np.where(labels != -100, labels, tokenizer.pad_toke_id)\n",
    "    decoded_labels = tokenizer.batch_decode(labels, skip_special_tokens=True)\n",
    "\n",
    "    result = rouge.compute(predictions=decoded_preds, references=decoded_labels, use_stemmer=True)\n",
    "\n",
    "    prediction_lens = [np.count_nonzero(pred != tokenizer.pad_token_id) for pred in predictions]\n",
    "    result[\"gen_len\"] = np.mean(prediction_lens)\n",
    "\n",
    "    return {k: round(v, 4) for k, v in result.items()}"
   ]
  },
  {
   "cell_type": "code",
   "execution_count": 16,
   "metadata": {},
   "outputs": [
    {
     "ename": "ImportError",
     "evalue": "\nAutoModelForSeq2SeqLM requires the PyTorch library but it was not found in your environment. Checkout the instructions on the\ninstallation page: https://pytorch.org/get-started/locally/ and follow the ones that match your environment.\nPlease note that you may need to restart your runtime after installation.\n",
     "output_type": "error",
     "traceback": [
      "\u001b[1;31m---------------------------------------------------------------------------\u001b[0m",
      "\u001b[1;31mImportError\u001b[0m                               Traceback (most recent call last)",
      "Cell \u001b[1;32mIn[16], line 3\u001b[0m\n\u001b[0;32m      1\u001b[0m \u001b[38;5;28;01mfrom\u001b[39;00m \u001b[38;5;21;01mtransformers\u001b[39;00m \u001b[38;5;28;01mimport\u001b[39;00m AutoModelForSeq2SeqLM, Seq2SeqTrainingArguments, Seq2SeqTrainer\n\u001b[1;32m----> 3\u001b[0m model \u001b[38;5;241m=\u001b[39m \u001b[43mAutoModelForSeq2SeqLM\u001b[49m\u001b[38;5;241;43m.\u001b[39;49m\u001b[43mfrom_pretrained\u001b[49m(checkpoint)\n",
      "File \u001b[1;32mc:\\Users\\hp\\miniconda3\\envs\\summary\\Lib\\site-packages\\transformers\\utils\\import_utils.py:1450\u001b[0m, in \u001b[0;36mDummyObject.__getattribute__\u001b[1;34m(cls, key)\u001b[0m\n\u001b[0;32m   1448\u001b[0m \u001b[38;5;28;01mif\u001b[39;00m key\u001b[38;5;241m.\u001b[39mstartswith(\u001b[38;5;124m\"\u001b[39m\u001b[38;5;124m_\u001b[39m\u001b[38;5;124m\"\u001b[39m) \u001b[38;5;129;01mand\u001b[39;00m key \u001b[38;5;241m!=\u001b[39m \u001b[38;5;124m\"\u001b[39m\u001b[38;5;124m_from_config\u001b[39m\u001b[38;5;124m\"\u001b[39m:\n\u001b[0;32m   1449\u001b[0m     \u001b[38;5;28;01mreturn\u001b[39;00m \u001b[38;5;28msuper\u001b[39m()\u001b[38;5;241m.\u001b[39m\u001b[38;5;21m__getattribute__\u001b[39m(key)\n\u001b[1;32m-> 1450\u001b[0m \u001b[43mrequires_backends\u001b[49m\u001b[43m(\u001b[49m\u001b[38;5;28;43mcls\u001b[39;49m\u001b[43m,\u001b[49m\u001b[43m \u001b[49m\u001b[38;5;28;43mcls\u001b[39;49m\u001b[38;5;241;43m.\u001b[39;49m\u001b[43m_backends\u001b[49m\u001b[43m)\u001b[49m\n",
      "File \u001b[1;32mc:\\Users\\hp\\miniconda3\\envs\\summary\\Lib\\site-packages\\transformers\\utils\\import_utils.py:1438\u001b[0m, in \u001b[0;36mrequires_backends\u001b[1;34m(obj, backends)\u001b[0m\n\u001b[0;32m   1436\u001b[0m failed \u001b[38;5;241m=\u001b[39m [msg\u001b[38;5;241m.\u001b[39mformat(name) \u001b[38;5;28;01mfor\u001b[39;00m available, msg \u001b[38;5;129;01min\u001b[39;00m checks \u001b[38;5;28;01mif\u001b[39;00m \u001b[38;5;129;01mnot\u001b[39;00m available()]\n\u001b[0;32m   1437\u001b[0m \u001b[38;5;28;01mif\u001b[39;00m failed:\n\u001b[1;32m-> 1438\u001b[0m     \u001b[38;5;28;01mraise\u001b[39;00m \u001b[38;5;167;01mImportError\u001b[39;00m(\u001b[38;5;124m\"\u001b[39m\u001b[38;5;124m\"\u001b[39m\u001b[38;5;241m.\u001b[39mjoin(failed))\n",
      "\u001b[1;31mImportError\u001b[0m: \nAutoModelForSeq2SeqLM requires the PyTorch library but it was not found in your environment. Checkout the instructions on the\ninstallation page: https://pytorch.org/get-started/locally/ and follow the ones that match your environment.\nPlease note that you may need to restart your runtime after installation.\n"
     ]
    }
   ],
   "source": [
    "from transformers import AutoModelForSeq2SeqLM, Seq2SeqTrainingArguments, Seq2SeqTrainer\n",
    "\n",
    "model = AutoModelForSeq2SeqLM.from_pretrained(checkpoint)"
   ]
  },
  {
   "cell_type": "code",
   "execution_count": null,
   "metadata": {},
   "outputs": [],
   "source": [
    "training_args = Seq2SeqTrainingArguments(\n",
    "    output_dir=\"my_awesome_billsum_model\",\n",
    "    evaluation_strategy=\"epoch\",\n",
    "    learning_rate=2e-5,\n",
    "    per_device_train_batch_size=16,\n",
    "    per_device_eval_batch_size=16,\n",
    "    weight_decay=0.01,\n",
    "    save_total_limit=3,\n",
    "    num_train_epochs=4,\n",
    "    predict_with_generate=True,\n",
    "    fp16=True,\n",
    "    push_to_hub=True,\n",
    ")\n",
    "\n",
    "trainer = Seq2SeqTrainer(\n",
    "    model=model,\n",
    "    args=training_args,\n",
    "    train_dataset=tokenized_billsum[\"train\"],\n",
    "    eval_dataset=tokenized_billsum[\"test\"],\n",
    "    tokenizer=tokenizer,\n",
    "    data_collator=data_collator,\n",
    "    compute_metrics=compute_metrics,\n",
    ")\n",
    "\n",
    "trainer.train()"
   ]
  },
  {
   "cell_type": "code",
   "execution_count": null,
   "metadata": {},
   "outputs": [],
   "source": [
    "trainer.push_to_hub()"
   ]
  },
  {
   "cell_type": "code",
   "execution_count": null,
   "metadata": {},
   "outputs": [],
   "source": [
    "text = \"summarize: The Inflation Reduction Act lowers prescription drug costs, health care costs, and energy costs. It's the most aggressive action on tackling the climate crisis in American history, which will lift up American workers and create good-paying, union jobs across the country. It'll lower the deficit and ask the ultra-wealthy and corporations to pay their fair share. And no one making under $400,000 per year will pay a penny more in taxes.\""
   ]
  },
  {
   "cell_type": "code",
   "execution_count": null,
   "metadata": {},
   "outputs": [],
   "source": [
    "from transformers import pipeline\n",
    "\n",
    "summarizer = pipeline(\"summarization\", model=\"stevhliu/my_awesome_billsum_model\")\n",
    "summarizer(text)"
   ]
  }
 ],
 "metadata": {
  "kernelspec": {
   "display_name": "summarizarisation",
   "language": "python",
   "name": "python3"
  },
  "language_info": {
   "codemirror_mode": {
    "name": "ipython",
    "version": 3
   },
   "file_extension": ".py",
   "mimetype": "text/x-python",
   "name": "python",
   "nbconvert_exporter": "python",
   "pygments_lexer": "ipython3",
   "version": "3.12.3"
  }
 },
 "nbformat": 4,
 "nbformat_minor": 2
}
